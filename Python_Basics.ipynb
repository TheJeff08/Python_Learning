{
 "cells": [
  {
   "cell_type": "markdown",
   "id": "b9ceab2d-e035-43d6-8308-f307efca92af",
   "metadata": {},
   "source": [
    "Note that these are two different variables due to Python being case sensitive"
   ]
  },
  {
   "cell_type": "code",
   "execution_count": 5,
   "id": "ab94cecd-2b65-4da3-90d2-9aa388437556",
   "metadata": {},
   "outputs": [
    {
     "name": "stdout",
     "output_type": "stream",
     "text": [
      "Apple Banana\n",
      "Hello Orange\n"
     ]
    }
   ],
   "source": [
    "Item = 'Banana'\n",
    "item = 'Apple'\n",
    "item_name = 'Orange'\n",
    "print(item, Item)\n",
    "\n",
    "print('Hello ' + item_name)"
   ]
  },
  {
   "cell_type": "markdown",
   "id": "3e6991b0-45a3-48d6-83de-8fbffb0c3a8c",
   "metadata": {},
   "source": [
    "Data Types"
   ]
  },
  {
   "cell_type": "code",
   "execution_count": 6,
   "id": "72d61c4c-f333-401c-b757-4a76e759c324",
   "metadata": {},
   "outputs": [
    {
     "name": "stdout",
     "output_type": "stream",
     "text": [
      "2021\n",
      "text\n",
      "False\n",
      "['Luigi', 'Mario', 'Toad']\n"
     ]
    }
   ],
   "source": [
    "integer = 2021\n",
    "word = 'text'\n",
    "isHappy = False\n",
    "list_one = ['Luigi', 'Mario', 'Toad']\n",
    "\n",
    "print(integer)\n",
    "print(word)\n",
    "print(isHappy)\n",
    "print(list_one)"
   ]
  },
  {
   "cell_type": "markdown",
   "id": "54745dc1-bb7e-4fdd-bb9f-78d9ea2b9855",
   "metadata": {},
   "source": [
    "Note the different types of text below.  string_number is considered text, so you will have to convert them into the correct type first.  We can combine them by printing the name and then the string value of the integer."
   ]
  },
  {
   "cell_type": "code",
   "execution_count": 7,
   "id": "01591286-5e0e-4e35-bd42-760c73d864e9",
   "metadata": {},
   "outputs": [
    {
     "name": "stdout",
     "output_type": "stream",
     "text": [
      "Mario2021\n"
     ]
    }
   ],
   "source": [
    "integer = 2021\n",
    "name = 'Mario'\n",
    "string_number = '22'\n",
    "\n",
    "print(name + str(integer))"
   ]
  },
  {
   "cell_type": "markdown",
   "id": "3bc54b1b-c8f8-4f81-962c-3e89de9c887d",
   "metadata": {},
   "source": [
    "Next we will do math\n",
    "\n",
    "addition = a + b\n",
    "subtraction = a - b\n",
    "multiplication = a * b\n",
    "division = a/b\n",
    "power = a**b"
   ]
  },
  {
   "cell_type": "code",
   "execution_count": 8,
   "id": "794a21e8-a7fa-4cca-8fa3-6a80564a9ef5",
   "metadata": {},
   "outputs": [
    {
     "name": "stdout",
     "output_type": "stream",
     "text": [
      "15\n",
      "5\n",
      "50\n",
      "2.0\n",
      "100000\n"
     ]
    }
   ],
   "source": [
    "a = 10\n",
    "b = 5\n",
    "\n",
    "addition = a + b\n",
    "subtraction = a - b\n",
    "multiplication = a * b\n",
    "division = a/b\n",
    "power = a**b\n",
    "\n",
    "print(addition)\n",
    "print(subtraction)\n",
    "print(multiplication)\n",
    "print(division)\n",
    "print(power)"
   ]
  },
  {
   "cell_type": "markdown",
   "id": "58dd96e9-16e0-4cb3-a400-9ffbbc9d3bd8",
   "metadata": {},
   "source": [
    "Logic statements"
   ]
  },
  {
   "cell_type": "code",
   "execution_count": 9,
   "id": "011692d8-4407-46a2-b644-446ba24c9483",
   "metadata": {},
   "outputs": [
    {
     "name": "stdout",
     "output_type": "stream",
     "text": [
      "You are old!\n",
      "You are not happy!\n"
     ]
    }
   ],
   "source": [
    "age = 35\n",
    "isHappy = False\n",
    "\n",
    "if age > 21:\n",
    "    print('You are old!')\n",
    "elif age == 18:\n",
    "    print('You are getting old!')\n",
    "else:\n",
    "    print('You are still young')\n",
    "\n",
    "if isHappy:\n",
    "    print('You are Happy!')\n",
    "else:\n",
    "    print('You are not happy!')\n"
   ]
  },
  {
   "cell_type": "markdown",
   "id": "747c093d-c87b-4713-81d7-93cbc15f4488",
   "metadata": {},
   "source": [
    "for loop\n",
    "A for loop will execute a block of code a fixed number of times.  You can iterate over a range, string, sequence, etc.\n",
    "For loops tend to work best when you only want something done a fixed number of times.\n",
    "\n",
    "Let's say we wanted to count to 10.  Note for the below, the second number in a range is *exclusive* therefore, we'd want it to stop at 10, so we'd put 11"
   ]
  },
  {
   "cell_type": "code",
   "execution_count": 27,
   "id": "2bda0477-788c-4f95-9a49-a4e078e34c19",
   "metadata": {},
   "outputs": [
    {
     "name": "stdout",
     "output_type": "stream",
     "text": [
      "1\n",
      "2\n",
      "3\n",
      "4\n",
      "5\n",
      "6\n",
      "7\n",
      "8\n",
      "9\n",
      "10\n"
     ]
    }
   ],
   "source": [
    "for x in range(1, 11):\n",
    "    print(x)"
   ]
  },
  {
   "cell_type": "markdown",
   "id": "281b79a3-926b-463b-bc6c-cb0c2a9a1250",
   "metadata": {},
   "source": [
    "Let's say we wanted to count backward from 10.  We would just put the range function inside of a reversed function, i.e., for x in reveresed(range(1, 11)):\n",
    "This would then count starting at 10 and go to 1.\n",
    "\n",
    "Say you wanted to count by 2's.  for x in range(1, 11, 2)\n",
    "This would output 1, 3, 5...\n",
    "\n",
    "Say for example you wanted to count from 1 to 21, but you want to skip over 13 because it's unlucky.  You'd use continue."
   ]
  },
  {
   "cell_type": "code",
   "execution_count": 29,
   "id": "cc2744b5-3213-4c8a-bc31-82a359cfb700",
   "metadata": {},
   "outputs": [
    {
     "name": "stdout",
     "output_type": "stream",
     "text": [
      "1\n",
      "2\n",
      "3\n",
      "4\n",
      "5\n",
      "6\n",
      "7\n",
      "8\n",
      "9\n",
      "10\n",
      "11\n",
      "12\n",
      "14\n",
      "15\n",
      "16\n",
      "17\n",
      "18\n",
      "19\n",
      "20\n",
      "21\n"
     ]
    }
   ],
   "source": [
    "for x in range(1, 22):\n",
    "    if x == 13:\n",
    "        continue\n",
    "    else:\n",
    "        print(x)"
   ]
  },
  {
   "cell_type": "markdown",
   "id": "d6382b11-dbb4-4c84-97c9-a80e141b0f9a",
   "metadata": {},
   "source": [
    "In programming, integers start at 0, so to start at 1, you'd have to manually add one (i.e. print('Hello', i + 1)"
   ]
  },
  {
   "cell_type": "code",
   "execution_count": 11,
   "id": "768a99e0-5d79-41a1-80f6-b14af485090f",
   "metadata": {},
   "outputs": [
    {
     "name": "stdout",
     "output_type": "stream",
     "text": [
      "Hello 1\n",
      "Hello 2\n",
      "Hello 3\n"
     ]
    }
   ],
   "source": [
    "for i in range(3):\n",
    "    print('Hello', i + 1)"
   ]
  },
  {
   "cell_type": "markdown",
   "id": "b8775857-87f9-4a80-ab76-480109cb98c3",
   "metadata": {},
   "source": [
    "You can see the definition of range by doing the following -"
   ]
  },
  {
   "cell_type": "code",
   "execution_count": 13,
   "id": "27e40e2b-468c-4630-9665-1c4a7810850f",
   "metadata": {},
   "outputs": [
    {
     "name": "stdout",
     "output_type": "stream",
     "text": [
      "range(0, 3)\n"
     ]
    }
   ],
   "source": [
    "    print(range(3))"
   ]
  },
  {
   "cell_type": "markdown",
   "id": "39329a9d-03a6-4f79-98b9-de8df41904ba",
   "metadata": {},
   "source": [
    "This created a range object that contains the values from 0 to 3.\n",
    "\n",
    "This can also work for lists."
   ]
  },
  {
   "cell_type": "code",
   "execution_count": 15,
   "id": "777e13d2-78bd-476d-bd7c-41c777707bd0",
   "metadata": {},
   "outputs": [
    {
     "name": "stdout",
     "output_type": "stream",
     "text": [
      "Luigi\n",
      "Mario\n",
      "Toad\n"
     ]
    }
   ],
   "source": [
    "list_one = ['Luigi', 'Mario', 'Toad']\n",
    "\n",
    "for name in list_one:\n",
    "    print(name)\n"
   ]
  },
  {
   "cell_type": "markdown",
   "id": "73778d6c-df2e-45c1-8125-c2cf7b3aadda",
   "metadata": {},
   "source": [
    "while loop\n",
    "Executes some code WHILE the condition remains true"
   ]
  },
  {
   "cell_type": "code",
   "execution_count": 16,
   "id": "cb34dd58-8b17-417b-9820-2f42e8596cdd",
   "metadata": {},
   "outputs": [
    {
     "name": "stdout",
     "output_type": "stream",
     "text": [
      "1\n",
      "2\n",
      "3\n",
      "4\n",
      "5\n"
     ]
    }
   ],
   "source": [
    "i = 0\n",
    "\n",
    "while i <5:\n",
    "    i = i +1\n",
    "    print(i)"
   ]
  },
  {
   "cell_type": "code",
   "execution_count": 17,
   "id": "4cb2b70b-698e-4def-9f20-8022aec756fc",
   "metadata": {},
   "outputs": [
    {
     "name": "stdin",
     "output_type": "stream",
     "text": [
      "Enter something >>  12\n",
      "Enter something >>  75\n",
      "Enter something >>  01\n",
      "Enter something >>  0\n"
     ]
    },
    {
     "name": "stdout",
     "output_type": "stream",
     "text": [
      "We are done here\n"
     ]
    }
   ],
   "source": [
    "while True:\n",
    "    user_input = input('Enter something >> ')\n",
    "    if user_input == '0':\n",
    "        print('We are done here')\n",
    "        break"
   ]
  },
  {
   "cell_type": "markdown",
   "id": "73a1d0a5-0013-451a-b4a8-b4d7c860a3b9",
   "metadata": {},
   "source": [
    "So - in the above we created an infinite loop, because it's always true.  We defined what input was.  So it'll ask for that with that text defined.  We THEN added a conditional, that if that input is 0, it'll print the text, and then \"break\", or end the loop.\n",
    "\n",
    "Here's another example:"
   ]
  },
  {
   "cell_type": "code",
   "execution_count": 24,
   "id": "873d1e4b-dc44-4ac6-8fdd-c517aa8af714",
   "metadata": {},
   "outputs": [
    {
     "name": "stdin",
     "output_type": "stream",
     "text": [
      "Enter your name:  \n"
     ]
    },
    {
     "name": "stdout",
     "output_type": "stream",
     "text": [
      "You did not enter your name\n"
     ]
    },
    {
     "name": "stdin",
     "output_type": "stream",
     "text": [
      "Enter your name:  \n"
     ]
    },
    {
     "name": "stdout",
     "output_type": "stream",
     "text": [
      "You did not enter your name\n"
     ]
    },
    {
     "name": "stdin",
     "output_type": "stream",
     "text": [
      "Enter your name:  Bob\n"
     ]
    },
    {
     "name": "stdout",
     "output_type": "stream",
     "text": [
      "Hello Bob\n"
     ]
    }
   ],
   "source": [
    "name = input(\"Enter your name: \")\n",
    "\n",
    "while name == \"\":\n",
    "    print(\"You did not enter your name\")\n",
    "    name = input(\"Enter your name: \")\n",
    "\n",
    "print(f\"Hello {name}\")"
   ]
  },
  {
   "cell_type": "markdown",
   "id": "957b96cb-087a-4e04-991a-12df54850426",
   "metadata": {},
   "source": [
    "So in the above - WHILE the user puts in nothing for their name (they try to get past the prompt without entering a name), the program will tell the user they didn't enter their name and then re-prompt them to do so.  For as many times as this happens, that is the return.  However, once something is entered, the program will then return back a greeting.\n",
    "\n",
    "You can also make it the inverse by using 'not' as a logical operator.  'while not name ==\"\":' print(f\"Your name is {name}.\")\n",
    "\n",
    "Additionally, you can use 'or' to define a while loop"
   ]
  },
  {
   "cell_type": "code",
   "execution_count": 25,
   "id": "6bdd19f6-662b-46cc-8b38-295b10873f73",
   "metadata": {},
   "outputs": [
    {
     "name": "stdin",
     "output_type": "stream",
     "text": [
      "Enter a number between 1 and 10:  12\n"
     ]
    },
    {
     "name": "stdout",
     "output_type": "stream",
     "text": [
      "12 is not valid\n"
     ]
    },
    {
     "name": "stdin",
     "output_type": "stream",
     "text": [
      "Enter a number between 1 and 10:  -77\n"
     ]
    },
    {
     "name": "stdout",
     "output_type": "stream",
     "text": [
      "-77 is not valid\n"
     ]
    },
    {
     "name": "stdin",
     "output_type": "stream",
     "text": [
      "Enter a number between 1 and 10:  0\n"
     ]
    },
    {
     "name": "stdout",
     "output_type": "stream",
     "text": [
      "0 is not valid\n"
     ]
    },
    {
     "name": "stdin",
     "output_type": "stream",
     "text": [
      "Enter a number between 1 and 10:  7\n"
     ]
    },
    {
     "name": "stdout",
     "output_type": "stream",
     "text": [
      "Your number is 7\n"
     ]
    }
   ],
   "source": [
    "num = int(input(\"Enter a number between 1 and 10: \"))\n",
    "\n",
    "while num < 1 or num > 10:\n",
    "    print(f\"{num} is not valid\")\n",
    "    num = int(input(\"Enter a number between 1 and 10: \"))\n",
    "\n",
    "print(f\"Your number is {num}\")"
   ]
  },
  {
   "cell_type": "markdown",
   "id": "28195efd-d2ff-4f7a-82c7-92cf3dbd4e37",
   "metadata": {},
   "source": [
    "So as you can see in the above - we asked the user to give us a number between 1 and 10 and converted it to an integer.  If the number provided (num) is less than 1 or greater than 10, we tell them it's not a valid number and then repropmt them.  This avoids an infinite loop that just spams the user telling them they're not giving a valid number.  We're \"letting the user escape\" the while loop. \n",
    "\n",
    "Once the while loop is no longer true (i.e. the user provides a number between 1 and 10), the program tells them their number."
   ]
  },
  {
   "cell_type": "markdown",
   "id": "021f7e31-17fb-4d1a-8f96-1e2297ed2945",
   "metadata": {},
   "source": [
    "Functions - "
   ]
  },
  {
   "cell_type": "code",
   "execution_count": 18,
   "id": "99a4421e-913c-49a7-9fd6-7f0f10584bd6",
   "metadata": {},
   "outputs": [
    {
     "name": "stdout",
     "output_type": "stream",
     "text": [
      "Hey there Mario\n",
      "Hey there Luigi\n"
     ]
    }
   ],
   "source": [
    "def say_hello(name):\n",
    "    print('Hey there', name)\n",
    "\n",
    "say_hello('Mario')\n",
    "say_hello('Luigi')\n"
   ]
  },
  {
   "cell_type": "markdown",
   "id": "8463a1f0-6bad-44e6-bb1d-74cd73380cd5",
   "metadata": {},
   "source": [
    "What we did above was define a function where the program would say hello to the name determined.  We then defined two different names, or rather, determined two different values for the function, which allowed the same function to run, and output multiple instances of the defined outputs.\n",
    "\n",
    "Next, we'll look at functions that we might not have the logic for yet, but know that they'll exist, and the use of pass to forego information that we might not have yet and allow the program to still work."
   ]
  },
  {
   "cell_type": "code",
   "execution_count": 20,
   "id": "3290dec1-8069-4cab-87ff-ea5b282bd8d3",
   "metadata": {},
   "outputs": [],
   "source": [
    "def get_internet():\n",
    "    pass\n",
    "\n",
    "def run_game():\n",
    "    pass"
   ]
  },
  {
   "cell_type": "markdown",
   "id": "a01c1f67-5b47-480c-94ad-1a48fe64c9fa",
   "metadata": {},
   "source": [
    "So as you can see, the above will run even without the definition of the function, because of pass.  This will greatly help when blueprinting out what you want your program to do but don't know yet how you'll get there.\n",
    "\n",
    "Now, finally we'll learn the try and except blocks."
   ]
  },
  {
   "cell_type": "code",
   "execution_count": 22,
   "id": "32f7782a-73dc-44e1-988d-8d7cf06ff8e7",
   "metadata": {},
   "outputs": [
    {
     "name": "stdin",
     "output_type": "stream",
     "text": [
      "Please provide a number >> Mario\n"
     ]
    },
    {
     "name": "stdout",
     "output_type": "stream",
     "text": [
      "That is not a valid number!\n"
     ]
    }
   ],
   "source": [
    "number = input('Please provide a number >>')\n",
    "\n",
    "try:\n",
    "    print(10 + int(number))\n",
    "except:\n",
    "    print('That is not a valid number!')"
   ]
  },
  {
   "cell_type": "markdown",
   "id": "a30071aa-94f8-4e32-97c9-b0bbf3ff1a10",
   "metadata": {},
   "source": [
    "So - in the above.  We define 'number' as an input, prompting with the text 'Please provide a number'.  The program will then attempt to output a number, adding 10 to the defined integer.  If the integer is valid, it completes, and if it isn't valid, the defined exception is the program returning the text 'That is not a valid number!'.\n",
    "\n",
    "So as you can see, when I input a name instead of a number, the program tried to add 10, couldn't because it's a word, and then gave me back the text defined."
   ]
  }
 ],
 "metadata": {
  "kernelspec": {
   "display_name": "Python 3 (ipykernel)",
   "language": "python",
   "name": "python3"
  },
  "language_info": {
   "codemirror_mode": {
    "name": "ipython",
    "version": 3
   },
   "file_extension": ".py",
   "mimetype": "text/x-python",
   "name": "python",
   "nbconvert_exporter": "python",
   "pygments_lexer": "ipython3",
   "version": "3.12.3"
  }
 },
 "nbformat": 4,
 "nbformat_minor": 5
}
