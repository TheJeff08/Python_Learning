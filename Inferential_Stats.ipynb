{
 "cells": [
  {
   "cell_type": "markdown",
   "id": "5df96ff1-86e7-4932-9ac2-b2bc72faecde",
   "metadata": {},
   "source": [
    "#### Fundamentals of Inferential Statistics\n",
    "\n",
    "Taken from - https://youtu.be/KS6KEWaoOOE?si=fzk08O1HNUC-XLZX"
   ]
  },
  {
   "cell_type": "markdown",
   "id": "bfa1e5a6-7acc-4a92-bfe2-3dec831d60ac",
   "metadata": {},
   "source": [
    "There is a null hypothesis.  It essentially assumes that nothing has changed due to variable introduction.\n",
    "Our alternative hypothesis is a measure of some change once that variable is introduced.  \n",
    "\n",
    "Our significance level (alpha level) is a measure threshold that determines if the variable introduction has caused significant enough change to be due to the variable.\n",
    "\n",
    "We often won't know a population's standard deviation, so we'll take a sample of the population and calc the stats of that population.\n",
    "\n",
    "We will then calculate the p-value, which is the probability values that we'd get the statistics that we observe if we assume that the null hypothesis is true.\n",
    "\n",
    "We then calc our p value.  If p < alpha level, we reject the null hypothesis\n",
    "                           If p >= alpha we cannot reject the null hypothesis"
   ]
  },
  {
   "cell_type": "markdown",
   "id": "2851ff9f-558b-46ef-8a6c-2f0d9dfb11c0",
   "metadata": {},
   "source": [
    "Also this article\n",
    "https://www.kdnuggets.com/applying-descriptive-and-inferential-statistics-in-python"
   ]
  },
  {
   "cell_type": "markdown",
   "id": "a432290d-3990-45de-a905-ba82e3165fef",
   "metadata": {},
   "source": [
    "The standard error is an inferential statistics measurement to estimate the true population parameter given the sample statistic. \n",
    "\n",
    "The standard error information is how the sample statistic would vary if we repeat the experiment with the data samples from the same population. \n",
    "\n",
    "The standard error of the mean (SEM) is the most commonly used type of standard error as it tells how well the mean would represent the population given the sample data.\n",
    "\n",
    "### Python SEM Calc example\n",
    "\n",
    "from scipy.stats import sem\n",
    "\n",
    "round(sem(tips['tip']),3)\n",
    "\n",
    "data_mean = round(tips['tip'].mean(),3)\n",
    "data_sem = round(sem(tips['tip']),3)\n",
    "print(f'The true population mean is estimated to fall within the range of {data_mean+data_sem} to {data_mean-data_sem}')\n",
    " \n",
    "\n",
    "The true population mean is estimated to fall within the range of 3.087 to 2.909000000"
   ]
  },
  {
   "cell_type": "markdown",
   "id": "0d2c7fb4-a0a1-4402-b8c9-f37bc379aeea",
   "metadata": {},
   "source": [
    "The Confidence Interval estimates the true population perameter based on a sample pop.  \n",
    "It introduces the confidence level.  The confidence level is described as probability.  A confidence level of 90%, for example, would say that the true mean of a population would fall within the confidence interval's upper and lower values 90 out of 100 times.\n",
    "\n",
    "### Python CI Calc example\n",
    "\n",
    "import scipy.stats as st\n",
    "\n",
    "st.norm.interval(confidence=0.95, loc=data_mean, scale=data_sem)"
   ]
  },
  {
   "cell_type": "markdown",
   "id": "b017d729-fed6-4c61-af13-2b52077ac95d",
   "metadata": {},
   "source": [
    "#### Hypothesis testing\n",
    "Taken from above article\n",
    "\n",
    "In Hypothesis testing, we need to have an assumption called the null hypothesis (H0), and the alternative hypothesis (Ha). \n",
    "\n",
    "Null hypothesis and alternative hypothesis are always opposite of each other. The hypothesis testing procedure then would use the sample data to determine whether or not the null hypothesis can be rejected or we fail to reject it (which means we accept the alternative hypothesis).\n",
    "\n",
    "When we perform a hypothesis testing method to see if the null hypothesis must be rejected, we need to determine the significance level. \n",
    "The level of significance is the type 1 error ( rejecting H0 when H0 is true) maximum probability that is allowed to happen in the test. \n",
    "Usually, the significance level is 0.05 or 0.01.\n",
    "\n",
    "To draw a conclusion from the sample, hypothesis testing uses the P-value when assuming the null hypothesis is true to measure how likely the sample results are. When the P-value is smaller than the significance level, we reject the null hypothesis; otherwise, we can’t reject it.\n",
    "\n",
    "Hypothesis testing is a method that can be performed in any population parameter and could be performed on multiple parameters as well. For example, the below code would perform a t-test on two different populations to see if this data is significantly different than the other.\n",
    "\n",
    "st.ttest_ind(tips[tips['sex'] == 'Male']['tip'], tips[tips['sex'] == 'Female']['tip'])\n",
    "\n",
    "Ttest_indResult(statistic=1.387859705421269, pvalue=0.16645623503456755)\n",
    " \n",
    "\n",
    "In the t-test, we compare the means between two groups (pairwise test). The null hypothesis for the t-test is that there are no differences between the two groups' mean, while the alternative hypothesis is that there are differences between the two groups' mean.\n",
    "\n",
    "The t-test result shows that the tip between the Male and Female is not significantly different because the P-value is above 0.05 significance level. \n",
    "It means we failed to reject the null hypothesis and conclude that there are no differences between the two groups' means.\n",
    "\n",
    "Of course, the test above only simplifies the hypothesis testing example. There are many assumptions we need to know when we perform hypothesis testing, and there are many tests that we can do to fulfill our needs. \n"
   ]
  },
  {
   "cell_type": "code",
   "execution_count": null,
   "id": "28592b88-3648-4e35-8a2c-3c45a27761b7",
   "metadata": {},
   "outputs": [],
   "source": []
  }
 ],
 "metadata": {
  "kernelspec": {
   "display_name": "example",
   "language": "python",
   "name": "example"
  },
  "language_info": {
   "codemirror_mode": {
    "name": "ipython",
    "version": 3
   },
   "file_extension": ".py",
   "mimetype": "text/x-python",
   "name": "python",
   "nbconvert_exporter": "python",
   "pygments_lexer": "ipython3",
   "version": "3.12.3"
  }
 },
 "nbformat": 4,
 "nbformat_minor": 5
}
